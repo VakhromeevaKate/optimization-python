{
 "cells": [
  {
   "cell_type": "markdown",
   "metadata": {},
   "source": [
    "# Реализовать на С или python поиск минимального значения для каждой из 5 заданных двумерных функций f(x,y) на квадрате 0 ⩽ x,y ⩽ 10:\n",
    "(a) fa(x,y)=(x−3)2+y2+1\n",
    "(b) fb(x,y)=(x+1)2+(2y−8)2+1\n",
    "(c) fc(x,y)=x2+xy+y2−16x−17y+94\n",
    "(d) fd(x,y)=((x−7)2+(y−8)2)·((x−8)2+(y−7)2)+4\n",
    "(e) fe(x,y)=(4xy−19)2·(cos2πx+cos2πy)−x−y+24\n",
    "# Решение вычислить с точностью ε = 10−6.\n",
    "# В качестве начальной точки взять (x0, y0) = (1, 2).\n",
    "# Найти точку минимума (x∗,y∗), значение функции f(x∗,y∗) и количество итераций (вычислений функции) n, которое потребовалось на достижение требуемой точности выбранным методом.\n"
   ]
  },
  {
   "cell_type": "code",
   "execution_count": 20,
   "metadata": {},
   "outputs": [],
   "source": [
    "import math\n",
    "import numpy as np\n",
    "import matplotlib.pyplot as plt\n",
    "\n",
    "globalEpsilon = 1e-6\n",
    "radius = 8                                 # working plane radius\n",
    "# centre = (1, 2)                          # very, very bad point)\n",
    "centre = (globalEpsilon, globalEpsilon)    # centre of the working circle\n",
    "arrShape = 100                             # number of points processed / 360\n",
    "step = radius / arrShape                   # step between two points\n",
    "\n",
    "\n",
    "def firstFunction(x, y):\n",
    "    return (x - 3) * (x - 3)  + y * y + 1\n",
    "\n",
    "def secondFunction(x, y):\n",
    "    return (x + 1)*(x + 1) + (2*y - 8)*(2*y - 8) + 1\n",
    "\n",
    "def thirdFunction(x, y):\n",
    "    return x * x + (x * y) + y * y - (16 * x) - (17 * y) + 94\n",
    "\n",
    "def fourthFunction(x, y):\n",
    "    return ((x - 7) * (x - 7) + (y - 8) * (y - 8)) * ((x - 8) * (x - 8) + (y - 7) * (y - 7)) + 4\n",
    "\n",
    "def fifthFunction(x, y):\n",
    "    return (4 * x * y - 19) * (4 * x * y - 19) * (math.cos(2 * x * math.pi) + math.cos(2 * y * math.pi)) - x - y+24"
   ]
  },
  {
   "cell_type": "markdown",
   "metadata": {},
   "source": [
    "Будем использовать метод градиентного спуска"
   ]
  },
  {
   "cell_type": "code",
   "execution_count": 32,
   "metadata": {},
   "outputs": [],
   "source": [
    "def rotateVector(length, a):\n",
    "    return length * np.cos(a), length * np.sin(a)\n",
    "\n",
    "def calculateFlipPoints(customFunction):\n",
    "    flipPoints = np.array([[0, 0], [0, 0]])\n",
    "    points = np.zeros((360, arrShape), dtype=bool)\n",
    "    cx, cy = centre\n",
    "\n",
    "    for i in range(arrShape):\n",
    "        for alpha in range(360):\n",
    "            x, y = rotateVector(step, alpha)\n",
    "            x = x * i + cx\n",
    "            y = y * i + cy\n",
    "            points[alpha][i] = derivativeX(x, y, customFunction) + derivativeY(y, x, customFunction) > 0\n",
    "            if not points[alpha][i - 1] and points[alpha][i]:\n",
    "                flipPoints = np.vstack((flipPoints, np.array([alpha, i - 1])))\n",
    "\n",
    "    return flipPoints\n",
    "\n",
    "def pickEstimates(positions, customFunction):\n",
    "    vx, vy = rotateVector(step, positions[1][0])\n",
    "    cx, cy = centre\n",
    "    bestX, bestY = cx + vx * positions[1][1], cy + vy * positions[1][1]\n",
    "\n",
    "    for index in range(2, len(positions)):\n",
    "        vx, vy = rotateVector(step, positions[index][0])\n",
    "        x, y = cx + vx * positions[index][1], cy + vy * positions[index][1]\n",
    "        if customFunction(bestX, bestY) > customFunction(x, y):\n",
    "            bestX = x\n",
    "            bestY = y\n",
    "\n",
    "    for index in range(360):\n",
    "        vx, vy = rotateVector(step, index)\n",
    "        x, y = cx + vx * (arrShape - 1), cy + vy * (arrShape - 1)\n",
    "        if customFunction(bestX, bestY) > customFunction(x, y):\n",
    "            bestX = x\n",
    "            bestY = y\n",
    "\n",
    "    return bestX, bestY\n",
    "\n",
    "def derivativeY(epsilon, arg, customFunction):\n",
    "    return (customFunction(arg, epsilon + globalEpsilon) - customFunction(arg, epsilon)) / globalEpsilon\n",
    "\n",
    "def derivativeX(epsilon, arg, customFunction):\n",
    "    return (customFunction(globalEpsilon + epsilon, arg) - customFunction(epsilon, arg)) / globalEpsilon\n",
    "\n",
    "def gradient(x, y, customFunction):\n",
    "    return derivativeX(x, y, customFunction) + derivativeY(y, x, customFunction)\n",
    "\n",
    "def gradientDescent(bestEstimates, isX, customFunction):\n",
    "    derivative = derivativeX if isX else derivativeY\n",
    "    bestX, bestY = bestEstimates\n",
    "    descentStep = step\n",
    "    value = derivative(bestY, bestX, customFunction)\n",
    "\n",
    "    while abs(value) > globalEpsilon:\n",
    "        descentStep *= 0.95\n",
    "        bestY = bestY - descentStep \\\n",
    "            if derivative(bestY, bestX, customFunction) > 0 else bestY + descentStep\n",
    "        value = derivative(bestY, bestX, customFunction)\n",
    "\n",
    "    return bestY, bestX"
   ]
  },
  {
   "cell_type": "code",
   "execution_count": 4,
   "metadata": {},
   "outputs": [],
   "source": [
    "def findMinimum(customFunction):\n",
    "    return gradientDescent(gradientDescent(pickEstimates(calculateFlipPoints(customFunction), customFunction), False, customFunction), True, customFunction)"
   ]
  },
  {
   "cell_type": "code",
   "execution_count": 6,
   "metadata": {},
   "outputs": [],
   "source": [
    "def getGrid(grid_step, customFunction):\n",
    "    samples = np.arange(-radius, radius, grid_step)\n",
    "    x, y = np.meshgrid(samples, samples)\n",
    "    return x, y, customFunction(x, y)\n",
    "\n",
    "def drawChart(point, grid):\n",
    "    pointX, pointY, pointZ = point\n",
    "    gridX, gridY, gridZ = grid\n",
    "    plt.rcParams.update({\n",
    "        'figure.figsize': (4, 4),\n",
    "        'figure.dpi': 200,\n",
    "        'xtick.labelsize': 4,\n",
    "        'ytick.labelsize': 4\n",
    "    })\n",
    "    ax = plt.figure().add_subplot(111, projection='3d')\n",
    "    ax.scatter(pointX, pointY, pointZ, color='red')\n",
    "    ax.plot_surface(gridX, gridY, gridZ, rstride=5, cstride=5, alpha=0.7)\n",
    "    plt.show()"
   ]
  },
  {
   "cell_type": "code",
   "execution_count": 30,
   "metadata": {},
   "outputs": [
    {
     "ename": "IndexError",
     "evalue": "invalid index to scalar variable.",
     "output_type": "error",
     "traceback": [
      "\u001b[0;31m---------------------------------------------------------------------------\u001b[0m",
      "\u001b[0;31mIndexError\u001b[0m                                Traceback (most recent call last)",
      "\u001b[1;32m/Users/evakhromeeva/Desktop/Sechenov/Sech/python/opt_test.ipynb Ячейка 7\u001b[0m line \u001b[0;36m2\n\u001b[1;32m      <a href='vscode-notebook-cell:/Users/evakhromeeva/Desktop/Sechenov/Sech/python/opt_test.ipynb#X10sZmlsZQ%3D%3D?line=0'>1</a>\u001b[0m myFunction \u001b[39m=\u001b[39m fourthFunction\n\u001b[0;32m----> <a href='vscode-notebook-cell:/Users/evakhromeeva/Desktop/Sechenov/Sech/python/opt_test.ipynb#X10sZmlsZQ%3D%3D?line=1'>2</a>\u001b[0m minX, minY \u001b[39m=\u001b[39m findMinimum(myFunction)\n\u001b[1;32m      <a href='vscode-notebook-cell:/Users/evakhromeeva/Desktop/Sechenov/Sech/python/opt_test.ipynb#X10sZmlsZQ%3D%3D?line=2'>3</a>\u001b[0m minimum \u001b[39m=\u001b[39m (minX, minY, myFunction(minX, minY))\n\u001b[1;32m      <a href='vscode-notebook-cell:/Users/evakhromeeva/Desktop/Sechenov/Sech/python/opt_test.ipynb#X10sZmlsZQ%3D%3D?line=3'>4</a>\u001b[0m \u001b[39mprint\u001b[39m(\u001b[39m\"\u001b[39m\u001b[39mFunction min = \u001b[39m\u001b[39m\"\u001b[39m, minimum)\n",
      "\u001b[1;32m/Users/evakhromeeva/Desktop/Sechenov/Sech/python/opt_test.ipynb Ячейка 7\u001b[0m line \u001b[0;36m2\n\u001b[1;32m      <a href='vscode-notebook-cell:/Users/evakhromeeva/Desktop/Sechenov/Sech/python/opt_test.ipynb#X10sZmlsZQ%3D%3D?line=0'>1</a>\u001b[0m \u001b[39mdef\u001b[39;00m \u001b[39mfindMinimum\u001b[39m(customFunction):\n\u001b[0;32m----> <a href='vscode-notebook-cell:/Users/evakhromeeva/Desktop/Sechenov/Sech/python/opt_test.ipynb#X10sZmlsZQ%3D%3D?line=1'>2</a>\u001b[0m     \u001b[39mreturn\u001b[39;00m gradientDescent(gradientDescent(pickEstimates(calculateFlipPoints(customFunction), customFunction), \u001b[39mFalse\u001b[39;00m, customFunction), \u001b[39mTrue\u001b[39;00m, customFunction)\n",
      "\u001b[1;32m/Users/evakhromeeva/Desktop/Sechenov/Sech/python/opt_test.ipynb Ячейка 7\u001b[0m line \u001b[0;36m2\n\u001b[1;32m     <a href='vscode-notebook-cell:/Users/evakhromeeva/Desktop/Sechenov/Sech/python/opt_test.ipynb#X10sZmlsZQ%3D%3D?line=19'>20</a>\u001b[0m \u001b[39mdef\u001b[39;00m \u001b[39mpickEstimates\u001b[39m(positions, customFunction):\n\u001b[0;32m---> <a href='vscode-notebook-cell:/Users/evakhromeeva/Desktop/Sechenov/Sech/python/opt_test.ipynb#X10sZmlsZQ%3D%3D?line=20'>21</a>\u001b[0m     vx, vy \u001b[39m=\u001b[39m rotateVector(step, positions[\u001b[39m1\u001b[39;49m][\u001b[39m0\u001b[39;49m])\n\u001b[1;32m     <a href='vscode-notebook-cell:/Users/evakhromeeva/Desktop/Sechenov/Sech/python/opt_test.ipynb#X10sZmlsZQ%3D%3D?line=21'>22</a>\u001b[0m     cx, cy \u001b[39m=\u001b[39m centre\n\u001b[1;32m     <a href='vscode-notebook-cell:/Users/evakhromeeva/Desktop/Sechenov/Sech/python/opt_test.ipynb#X10sZmlsZQ%3D%3D?line=22'>23</a>\u001b[0m     bestX, bestY \u001b[39m=\u001b[39m cx \u001b[39m+\u001b[39m vx \u001b[39m*\u001b[39m positions[\u001b[39m1\u001b[39m][\u001b[39m1\u001b[39m], cy \u001b[39m+\u001b[39m vy \u001b[39m*\u001b[39m positions[\u001b[39m1\u001b[39m][\u001b[39m1\u001b[39m]\n",
      "\u001b[0;31mIndexError\u001b[0m: invalid index to scalar variable."
     ]
    }
   ],
   "source": [
    "myFunction = firstFunction\n",
    "minX, minY = findMinimum(myFunction)\n",
    "minimum = (minX, minY, myFunction(minX, minY))\n",
    "print(\"Function min = \", minimum)\n",
    "# drawChart(minimum, getGrid(0.05, myFunction))"
   ]
  }
 ],
 "metadata": {
  "kernelspec": {
   "display_name": "Python 3",
   "language": "python",
   "name": "python3"
  },
  "language_info": {
   "codemirror_mode": {
    "name": "ipython",
    "version": 3
   },
   "file_extension": ".py",
   "mimetype": "text/x-python",
   "name": "python",
   "nbconvert_exporter": "python",
   "pygments_lexer": "ipython3",
   "version": "3.11.6"
  }
 },
 "nbformat": 4,
 "nbformat_minor": 2
}
