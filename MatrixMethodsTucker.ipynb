{
 "cells": [
  {
   "cell_type": "code",
   "execution_count": null,
   "metadata": {},
   "outputs": [],
   "source": [
    "import numpy as np\n",
    "\n",
    "def stHOSVD_3d(A, r1, r2, r3):\n",
    "# Construct Tucker decomposition of 3D tensor via stHOSVD with ranks [r1, r2, r3]\n",
    "    N1,N2,N3 = A.shape\n",
    "    A1=A.reshape(N1, N2 * N3)\n",
    "    U, s, V = np.linalg.svd(A1, full_matrices=False)\n",
    "    V1 = U[:,:r1]\n",
    "    V1 = V1.T\n",
    "    A1 = np.diag(s[:r1]) @ V[:r1,:] # r1 x N2*N3\n",
    "    A1 = A1.reshape(r1, N2, N3)\n",
    "    A1 = A1.transpose([0,2,1])\n",
    "    A1 = A1.reshape(r1 * N3, N2) # r1 ∗ N3 x N2\n",
    "    U, s, V = np.linalg.svd(A1, full_matrices=False)\n",
    "    V2= V[:r2,:] # r2xN2\n",
    "    U2 = U[:,:r2] @ np.diag(s[:r2]) # r1∗N3 x r2\n",
    "    U2 = U2.reshape(r1, N3, r2) # r1 x N3 x r2\n",
    "    U2 = U2.transpose([0,2,1]) # r1 x r2 x N3\n",
    "    U2 = U2.reshape(r1 * r2, N3) # r1∗r2 x N3\n",
    "    U, s, V = np.linalg.svd(U2, full_matrices=False)\n",
    "    V3 = V[:r3,:] # U3(r3,j)\n",
    "    G = U[:,:r3] @ np.diag(s[:r3])# r1 ∗ r2 x r3\n",
    "    G = G.reshape(r1, r2, r3) # main core\n",
    "    return G, V1, V2, V3"
   ]
  }
 ],
 "metadata": {
  "language_info": {
   "name": "python"
  }
 },
 "nbformat": 4,
 "nbformat_minor": 2
}
