{
 "cells": [
  {
   "cell_type": "code",
   "execution_count": 1,
   "metadata": {},
   "outputs": [],
   "source": [
    "import numpy as np\n",
    "\n",
    "def TTSVD_3d(A, r1, r2):\n",
    "    N1,N2,N3 = A.shape\n",
    "    print(\"A shape\", A.shape)\n",
    "    A1=A.reshape(N1, N2 * N3)\n",
    "    U, s, V = np.linalg.svd(A1, full_matrices=False)\n",
    "    G1 = U[:,:r1] #N1 x r1\n",
    "    V1 = np.diag(s[:r1]) @ V[:r1, :] # r1 x N2∗N3\n",
    "    # print(\"V1 shape\", V1.shape)\n",
    "    V1 = V1.reshape(r1 * N2, N3) # print(\"V1 shape after reshape\", V1.shape)\n",
    "    U, s, V = np.linalg.svd(V1, full_matrices=False)\n",
    "    G2 = U[:,:r2] # r1∗N2 x r2\n",
    "    G2 = G2.reshape(r1, N2, r2)# r1 x N2 x r2\n",
    "    G3 = np.diag(s[:r2]) @V[:r2,:] # r2 x N3\n",
    "    print(\"G1 shape\", G1.shape) # print(\"G1\", G1)\n",
    "    print(\"G2 shape\", G2.shape) # print(\"G2\", G2)\n",
    "    print(\"G3 shape\", G3.shape) # print(\"G3\", G3)\n",
    "    return G1, G2, G3\n"
   ]
  },
  {
   "cell_type": "code",
   "execution_count": 37,
   "metadata": {},
   "outputs": [],
   "source": [
    "def myMatrixIndexSumFunc():\n",
    "    i1 = [1, 2, 3]\n",
    "    i2 = [1, 2, 3, 4]\n",
    "    i3 = [1, 2, 3, 4, 5]\n",
    "    # каждый эдемент - сумма индексов\n",
    "    matrix = np.zeros(60).reshape(3,4,5)\n",
    "    for i in range(3):\n",
    "        for j in range(4):\n",
    "            for k in range(5):\n",
    "                matrix[i][j][k] = i1[i] + i2[j] + i3[k]\n",
    "\n",
    "    # print(matrix)\n",
    "    # print(matrix.shape)\n",
    "    return np.array(matrix)"
   ]
  },
  {
   "cell_type": "code",
   "execution_count": 38,
   "metadata": {},
   "outputs": [],
   "source": [
    "matr = myMatrixIndexSumFunc()"
   ]
  },
  {
   "cell_type": "code",
   "execution_count": 42,
   "metadata": {},
   "outputs": [
    {
     "name": "stdout",
     "output_type": "stream",
     "text": [
      "A shape (3, 4, 5)\n",
      "G1 shape (3, 2)\n",
      "G2 shape (2, 4, 2)\n",
      "G3 shape (2, 5)\n"
     ]
    }
   ],
   "source": [
    "test = TTSVD_3d(matr, 2 , 2)"
   ]
  },
  {
   "cell_type": "code",
   "execution_count": 43,
   "metadata": {},
   "outputs": [
    {
     "name": "stdout",
     "output_type": "stream",
     "text": [
      "60\n",
      "32\n"
     ]
    }
   ],
   "source": [
    "print(5 * 3 * 4)\n",
    "\n",
    "print((3 * 2) + (2 * 4 * 2) + (2 * 5))"
   ]
  },
  {
   "cell_type": "code",
   "execution_count": 44,
   "metadata": {},
   "outputs": [
    {
     "name": "stdout",
     "output_type": "stream",
     "text": [
      "(array([[-0.50187667,  0.76253075],\n",
      "       [-0.57431292,  0.05914395],\n",
      "       [-0.64674917, -0.64424285]]), array([[[-0.40027315, -0.58814246],\n",
      "        [-0.46338535, -0.23447192],\n",
      "        [-0.52649754,  0.11919861],\n",
      "        [-0.58960974,  0.47286915]],\n",
      "\n",
      "       [[-0.01085642,  0.35240143],\n",
      "        [-0.004357  ,  0.3159797 ],\n",
      "        [ 0.00214243,  0.27955796],\n",
      "        [ 0.00864186,  0.24313623]]]), array([[19.59876388, 23.0089932 , 26.41922251, 29.82945182, 33.23968113],\n",
      "       [-1.37421039, -0.76565797, -0.15710555,  0.45144686,  1.05999928]]))\n"
     ]
    }
   ],
   "source": [
    "print(test)"
   ]
  }
 ],
 "metadata": {
  "kernelspec": {
   "display_name": "Python 3",
   "language": "python",
   "name": "python3"
  },
  "language_info": {
   "codemirror_mode": {
    "name": "ipython",
    "version": 3
   },
   "file_extension": ".py",
   "mimetype": "text/x-python",
   "name": "python",
   "nbconvert_exporter": "python",
   "pygments_lexer": "ipython3",
   "version": "3.11.6"
  }
 },
 "nbformat": 4,
 "nbformat_minor": 2
}
